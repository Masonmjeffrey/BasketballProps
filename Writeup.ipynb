{
 "cells": [
  {
   "cell_type": "markdown",
   "id": "e87e4b35-36e3-4929-8aea-320af2dcc382",
   "metadata": {},
   "source": [
    "<h1> Basketball Props </h1>\n",
    "<h2> Motivation </h2>\n",
    "<p> In 2018 the federal ban on sports betting was overturned, this has led to sports gambling becoming an entirely new industry. Making smart and informed decisions with sports betting is incredibly important, and researching which decisions are worth it can help give gamblers an advantage that prevents them from throwing money away. This database aims to provide an easy way for users to research NBA data to help efficiently make those smarter decisions, specifically on NBA game results and player props. Player Props being the total of a specific statistic (such as Nikola Jokic’s rebounds in a game). In the past researching which bets had a history of hitting more often required users to have dozens of tabs open and clicking different windows to bring up multiple results at the same time. This database and the queries that I provide will give users a simple way to research which bets have a history of happening more often.</p>\n",
    "<h2> Project Description </h2>\n",
    "<p> This project contains three python notebooks in addition to this one. </p>\n",
    "</br>\n",
    "<p> tablesetup.ipynb handles the creation of the sql tables, triggers, and indices, it then loads in data from external CSV files and inserts them into the SQL Tables </p>\n",
    "<p> This file contains the following actions: </p>\n",
    "<p> Load in our required libraries and then connect to our provided database </p>\n",
    "<p> Create our Tables, after the creation we add some constraints </p>\n",
    "<p> Create appropriate Triggers for our Tables </p>\n",
    "<p> Create appropriate Indices for our Tables </p>\n",
    "<p> Load in external CSV files into Pandas Dataframe Objects </p>\n",
    "<p> Remove Unneccessary columns and nan values from our Dataframes </p>\n",
    "<p> Convert each Dataframe to a Dictionary </p>\n",
    "<p> Insert the values from each Dictionary to the SQL Tables </p>\n",
    "</br>\n",
    "<p> tablemodifications.ipynb handles the testing of constraints, the testing of triggers through deletions, the testing of triggers a duplicate value, the testing of inserting a duplicate value </p>\n",
    "<p> This file contains the following actions: </p>\n",
    "<p> Load in the required libraries and connect to the database </p>\n",
    "<p> Test that the constraints introduced in table hold by checking a record, and trying a duplicate insertion expecting a failure </p>\n",
    "<p> Test each trigger that was created in tablesetup.ipynb </p>\n",
    "</br>\n",
    "<p> queries.ipynb handles the queries that are executed against the database </p>\n",
    "<p> This file contains the following queries and is the main purpose of the project: </p>\n",
    "<p> The following queries are executed </p>\n",
    "<p> The Team Roster for a Specified Team in each season</p>\n",
    "<p> Career Averages for Highest Scoring Players </p>\n",
    "<p> Players who Averaged 10,5,5 </p>\n",
    "<p> Best Individual Seasons </p>\n",
    "<p> Season Averages for a Specified Player </p>\n",
    "<p> Player Props against a Specific Team </p>\n",
    "<p> Win Percentage of one Specific Team against another Specific Team </p>\n",
    "</br>\n",
    "<h2> Required Items Checklist </h2>\n",
    "<p> The following items were required for this project, a brief description of how and where that requirement is met is provided below: </p>\n",
    "<p> Multiple Tables -  tablesetup.ipynb, four tables were created for this project Teams, Players, Games, Games_Details </p>\n",
    "<p> Relationships between Tables - tablesetup.ipynb, in the creation of tables each table other than Teams references another table </p>\n",
    "<p> Show SQL Statments for table creation, insertion of initial data, updates and queries - tablesetup.ipynb contains table creation and insertion of initial data with acccompanying code, tablemodification.ipynb contains updates of data, queries.ipynb contains sql queries against the tables </p>\n",
    "<p> Table Creation - tablesetup.ipynb, the four tables are created </p>\n",
    "<p> Constraints - tablesetup.ipynb, Teams has a primary key, Games_Details and Games are both given composite primary keys tablemodifications.ipynb contains testing of these constraints</p>\n",
    "<p> Indexes - tablesetup.ipynb, contains indices that were created to assist with the more common queries </p>\n",
    "<p> Queries - queries.ipynb, filled entirely with queries </p>\n",
    "<p> Joins between Tables - queries.ipynb, utilizes joins between tables in most of its queries </p>\n",
    "<p> Grouping Results - queries.ipynb, groups results in most of its queries </p>\n",
    "<p> Updates - tablesetup.ipynb, update triggers are implemented to update Games_Details when Players is updated, this trigger is tested in tablemodifications.ipynb </p>\n",
    "<p> Deleting Items that are Foreign Keys in other tables - tablesetup.ipynb, deletion triggers are implemented here, those triggers are testested in tablemodifications.ipynb </p>\n",
    "</br>\n",
    "<h2> Main Queries </h2>\n",
    "<p> This project computes a multitude of queries, from player season averages, to career averages, and much more. Each individual query is discussed more in-depth in the queries.ipynb notebook. Here I'd like to go over the two main queries that handle the motiviation behind the project </p>\n",
    "<p> The first query Player Props was the main motivation behind the project. This query returns the player performances of a specific player against a specific team.</p> \n",
    "<p> This query is demonstrated by searching for Jaylen Brown performances against the Brooklyn Nets </p>\n",
    "<p> First a CTE is created of all GAME_IDs where the nets were either the home or away team </p>\n",
    "<p> Next Games_Details is queries to find the specific player-game records involving Jaylen Brown </p>\n",
    "<p> These two are merged together in one query to find Jaylen Brown's performances against the Brooklyn Nets </p>\n",
    "\n",
    "</br>\n",
    "<p> "
   ]
  },
  {
   "cell_type": "markdown",
   "id": "2f017636-1dca-4a8e-b09c-629b6816c54e",
   "metadata": {},
   "source": [
    "![PlayerProps](images/PlayerPropsQuery.png)\n",
    "<p> If the above image does not load please see PlayerPropsQuery.png in the images folder for look at the code and results of the Player Props Query </p>"
   ]
  },
  {
   "cell_type": "markdown",
   "id": "b7d9bfb1-f6a0-4d09-a414-5ef192e3f351",
   "metadata": {},
   "source": [
    "<p> The second main query implemented was to calculate the win percentages for one specified team against another. </p>\n",
    "<p> This query is demonstrated by finding the percentage of the last ten games that the Chicago Bulls won against the Philadelphia 76ers </p>\n",
    "<p> First two CTEs are created one for Philadelphia GAME_IDs and one for Chicago GAME_IDs. </p>\n",
    "<p> Next a CTE of the last ten GAME_IDs where Chicago Played Philadelphia is Created </p>\n",
    "<p> Next CTEs are calculated for the count of the games where each team won at home and away </p>\n",
    "<p> Chicago's wins are summed together for home and away, this number is converted into a percentage to represent the percentage of the last 10 games that Chicago played against Philadelphia where Chicago won </p>\n"
   ]
  },
  {
   "cell_type": "markdown",
   "id": "4081c85f-2397-43e7-a063-562a3a2646f8",
   "metadata": {},
   "source": [
    "![Team_wins](images/TeamWinPercentage.png)\n",
    "<p> If the above image does not load please see PlayerPropsQuery.png in the images folder for look at the code and results of the Player Props Query </p>"
   ]
  },
  {
   "cell_type": "markdown",
   "id": "34512cf3-d411-4c78-b640-5760f40a02d3",
   "metadata": {},
   "source": [
    "<h3> Reminder : To look at these queries and the many more that were used for this project (team rosters, player averages etc.) please see the queries.ipynb file </h3>"
   ]
  },
  {
   "cell_type": "markdown",
   "id": "facb4aa0-38ec-4df5-b5b8-75ece338acae",
   "metadata": {},
   "source": [
    "<p> Note that the database used was unable to store all of the data contained in the CSV files, while the Player Props query and Team Win Percentage query both work as expected, the others do not as they are missing several games and several games_details records. This has been tessted locally and the other queries perform as expected. That can be confirmed in Rough_Draft.ipynb which contains a pandassql version of the queries and operates as expected (only explore it if you want to see those results otherwise the file is not relevant) </p>"
   ]
  },
  {
   "cell_type": "code",
   "execution_count": null,
   "id": "9a9b90a5-40fb-4667-aec2-e2516bd5e3f2",
   "metadata": {},
   "outputs": [],
   "source": []
  }
 ],
 "metadata": {
  "kernelspec": {
   "display_name": "Python 3 (ipykernel)",
   "language": "python",
   "name": "python3"
  },
  "language_info": {
   "codemirror_mode": {
    "name": "ipython",
    "version": 3
   },
   "file_extension": ".py",
   "mimetype": "text/x-python",
   "name": "python",
   "nbconvert_exporter": "python",
   "pygments_lexer": "ipython3",
   "version": "3.9.6"
  }
 },
 "nbformat": 4,
 "nbformat_minor": 5
}
